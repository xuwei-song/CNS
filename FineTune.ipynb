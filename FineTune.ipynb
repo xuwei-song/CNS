{
 "cells": [
  {
   "cell_type": "code",
   "execution_count": 1,
   "id": "e4a323d9",
   "metadata": {},
   "outputs": [],
   "source": [
    "from transformers import BertTokenizerFast, BertModel, BertForSequenceClassification, AdamW\n",
    "from torch.utils.data import DataLoader, TensorDataset\n",
    "import torch"
   ]
  },
  {
   "cell_type": "code",
   "execution_count": 5,
   "id": "7530979e",
   "metadata": {},
   "outputs": [
    {
     "data": {
      "application/vnd.jupyter.widget-view+json": {
       "model_id": "f7509d8556b140c0be2bd3756e325531",
       "version_major": 2,
       "version_minor": 0
      },
      "text/plain": [
       "model.safetensors:   0%|          | 0.00/439M [00:00<?, ?B/s]"
      ]
     },
     "metadata": {},
     "output_type": "display_data"
    },
    {
     "name": "stderr",
     "output_type": "stream",
     "text": [
      "Some weights of BertForSequenceClassification were not initialized from the model checkpoint at unikei/bert-base-smiles and are newly initialized: ['classifier.weight', 'classifier.bias']\n",
      "You should probably TRAIN this model on a down-stream task to be able to use it for predictions and inference.\n"
     ]
    }
   ],
   "source": [
    "# 加载预训练的分词器和模型\n",
    "checkpoint = 'unikei/bert-base-smiles'\n",
    "tokenizer = BertTokenizerFast.from_pretrained(checkpoint)\n",
    "model = BertForSequenceClassification.from_pretrained(checkpoint, num_labels=2)"
   ]
  },
  {
   "cell_type": "code",
   "execution_count": 11,
   "id": "6e7c793b",
   "metadata": {},
   "outputs": [],
   "source": [
    "import pandas as pd\n",
    "# 准备数据集（这里需要您自己加载和处理数据）\n",
    "train_data = pd.read_csv('mol_train.csv', encoding='gbk')\n",
    "test_data = pd.read_csv('mol_test.csv', encoding='gbk')"
   ]
  },
  {
   "cell_type": "code",
   "execution_count": 14,
   "id": "6674a0ac",
   "metadata": {},
   "outputs": [],
   "source": [
    "# 分词并编码\n",
    "tokenized_data = tokenizer(\n",
    "    train_data['SMILES'].tolist(),\n",
    "    padding=True,\n",
    "    truncation=True,\n",
    "    max_length=512,  # 或您选择的最大长度\n",
    "    return_tensors=\"pt\"\n",
    ")\n",
    "\n",
    "# 创建标签和特征\n",
    "labels = torch.tensor(train_data['TARGET'].values)\n",
    "input_ids = tokenized_data['input_ids']\n",
    "attention_mask = tokenized_data['attention_mask']\n",
    "\n",
    "# 创建TensorDataset\n",
    "dataset = TensorDataset(input_ids, attention_mask, labels)"
   ]
  },
  {
   "cell_type": "code",
   "execution_count": 16,
   "id": "d5eac62d",
   "metadata": {},
   "outputs": [],
   "source": [
    "from sklearn.model_selection import train_test_split\n",
    "\n",
    "# 划分数据集\n",
    "train_dataset, val_dataset = train_test_split(dataset, test_size=0.2, random_state=42)\n",
    "\n",
    "# 创建DataLoader\n",
    "batch_size = 32  # 或您选择的批次大小\n",
    "train_loader = DataLoader(train_dataset, batch_size=batch_size, shuffle=True)\n",
    "val_loader = DataLoader(val_dataset, batch_size=batch_size)"
   ]
  },
  {
   "cell_type": "code",
   "execution_count": 17,
   "id": "40c5d316",
   "metadata": {},
   "outputs": [],
   "source": [
    "# 定义计算准确率的函数\n",
    "def compute_accuracy(predictions, labels):\n",
    "    preds_flat = predictions.argmax(dim=1).flatten()\n",
    "    labels_flat = labels.flatten()\n",
    "    return (preds_flat == labels_flat).cpu().numpy().mean()\n",
    "\n",
    "# 验证模型\n",
    "def validate_model(model, val_loader, loss_fn):\n",
    "    model.eval()\n",
    "    total_eval_loss = 0\n",
    "    total_eval_accuracy = 0\n",
    "\n",
    "    for batch in val_loader:\n",
    "        input_ids = batch[0].to(model.device)\n",
    "        attention_mask = batch[1].to(model.device)\n",
    "        labels = batch[2].to(model.device)\n",
    "\n",
    "        with torch.no_grad():\n",
    "            outputs = model(input_ids, attention_mask=attention_mask, labels=labels)\n",
    "\n",
    "        loss = outputs.loss\n",
    "        total_eval_loss += loss.item()\n",
    "\n",
    "        logits = outputs.logits\n",
    "        total_eval_accuracy += compute_accuracy(logits, labels)\n",
    "\n",
    "    avg_val_loss = total_eval_loss / len(val_loader)\n",
    "    avg_val_accuracy = total_eval_accuracy / len(val_loader)\n",
    "\n",
    "    return avg_val_loss, avg_val_accuracy"
   ]
  },
  {
   "cell_type": "code",
   "execution_count": 18,
   "id": "756f469b",
   "metadata": {},
   "outputs": [
    {
     "name": "stderr",
     "output_type": "stream",
     "text": [
      "D:\\software\\anaconda3\\Lib\\site-packages\\transformers\\optimization.py:429: FutureWarning: This implementation of AdamW is deprecated and will be removed in a future version. Use the PyTorch implementation torch.optim.AdamW instead, or set `no_deprecation_warning=True` to disable this warning\n",
      "  warnings.warn(\n"
     ]
    },
    {
     "name": "stdout",
     "output_type": "stream",
     "text": [
      "Epoch 1/3, Loss: 0.5602369027005302\n",
      "Validation Loss: 0.5421294808387757, Accuracy: 0.75625\n",
      "Validation Loss: 0.5421294808387757, Accuracy: 0.75625\n",
      "Validation Loss: 0.5421294808387757, Accuracy: 0.75625\n",
      "Validation Loss: 0.5421294808387757, Accuracy: 0.75625\n",
      "Validation Loss: 0.5421294808387757, Accuracy: 0.75625\n",
      "Epoch 2/3, Loss: 0.3215409066114161\n",
      "Validation Loss: 0.401987162232399, Accuracy: 0.8520833333333334\n",
      "Validation Loss: 0.401987162232399, Accuracy: 0.8520833333333334\n",
      "Validation Loss: 0.401987162232399, Accuracy: 0.8520833333333334\n",
      "Validation Loss: 0.401987162232399, Accuracy: 0.8520833333333334\n",
      "Validation Loss: 0.401987162232399, Accuracy: 0.8520833333333334\n",
      "Epoch 3/3, Loss: 0.19960344313747352\n",
      "Validation Loss: 0.4361471079289913, Accuracy: 0.8625\n",
      "Validation Loss: 0.4361471079289913, Accuracy: 0.8625\n",
      "Validation Loss: 0.4361471079289913, Accuracy: 0.8625\n",
      "Validation Loss: 0.4361471079289913, Accuracy: 0.8625\n",
      "Validation Loss: 0.4361471079289913, Accuracy: 0.8625\n"
     ]
    },
    {
     "ename": "NameError",
     "evalue": "name 'test_loader' is not defined",
     "output_type": "error",
     "traceback": [
      "\u001b[1;31m---------------------------------------------------------------------------\u001b[0m",
      "\u001b[1;31mNameError\u001b[0m                                 Traceback (most recent call last)",
      "Cell \u001b[1;32mIn[18], line 45\u001b[0m\n\u001b[0;32m     42\u001b[0m         \u001b[38;5;28mprint\u001b[39m(\u001b[38;5;124mf\u001b[39m\u001b[38;5;124m\"\u001b[39m\u001b[38;5;124mValidation Loss: \u001b[39m\u001b[38;5;132;01m{\u001b[39;00mavg_val_loss\u001b[38;5;132;01m}\u001b[39;00m\u001b[38;5;124m, Accuracy: \u001b[39m\u001b[38;5;132;01m{\u001b[39;00mavg_val_accuracy\u001b[38;5;132;01m}\u001b[39;00m\u001b[38;5;124m\"\u001b[39m)\n\u001b[0;32m     44\u001b[0m \u001b[38;5;66;03m# 测试模型\u001b[39;00m\n\u001b[1;32m---> 45\u001b[0m avg_test_loss, avg_test_accuracy \u001b[38;5;241m=\u001b[39m test_model(model, test_loader, loss_fn)\n\u001b[0;32m     46\u001b[0m \u001b[38;5;28mprint\u001b[39m(\u001b[38;5;124mf\u001b[39m\u001b[38;5;124m\"\u001b[39m\u001b[38;5;124mTest Loss: \u001b[39m\u001b[38;5;132;01m{\u001b[39;00mavg_test_loss\u001b[38;5;132;01m}\u001b[39;00m\u001b[38;5;124m, Accuracy: \u001b[39m\u001b[38;5;132;01m{\u001b[39;00mavg_test_accuracy\u001b[38;5;132;01m}\u001b[39;00m\u001b[38;5;124m\"\u001b[39m)\n",
      "\u001b[1;31mNameError\u001b[0m: name 'test_loader' is not defined"
     ]
    }
   ],
   "source": [
    "from torch.nn import CrossEntropyLoss\n",
    "\n",
    "# 参数设置\n",
    "learning_rate = 5e-5  # 学习率\n",
    "total_epochs = 3  # 总轮数\n",
    "\n",
    "# 定义优化器\n",
    "optimizer = AdamW(model.parameters(), lr=learning_rate)\n",
    "\n",
    "# 定义损失函数\n",
    "loss_fn = CrossEntropyLoss()\n",
    "\n",
    "# 训练模型\n",
    "for epoch in range(total_epochs):\n",
    "    model.train()\n",
    "    total_loss = 0\n",
    "    for batch in train_loader:\n",
    "        # 将数据移至正确的设备（例如 GPU）\n",
    "        input_ids = batch[0].to(model.device)\n",
    "        attention_mask = batch[1].to(model.device)\n",
    "        labels = batch[2].to(model.device)\n",
    "\n",
    "        # 前向传播\n",
    "        outputs = model(input_ids, attention_mask=attention_mask, labels=labels)\n",
    "        loss = outputs.loss\n",
    "\n",
    "        # 反向传播\n",
    "        optimizer.zero_grad()\n",
    "        loss.backward()\n",
    "        optimizer.step()\n",
    "\n",
    "        total_loss += loss.item()\n",
    "\n",
    "    # 打印每轮的平均损失\n",
    "    print(f\"Epoch {epoch + 1}/{total_epochs}, Loss: {total_loss / len(train_loader)}\")\n",
    "\n",
    "    # 验证模型\n",
    "    avg_val_loss, avg_val_accuracy = validate_model(model, val_loader, loss_fn)\n",
    "    print(f\"Validation Loss: {avg_val_loss}, Accuracy: {avg_val_accuracy}\")"
   ]
  },
  {
   "cell_type": "code",
   "execution_count": 22,
   "id": "80d0168e",
   "metadata": {
    "scrolled": true
   },
   "outputs": [],
   "source": [
    "# 测试模型\n",
    "test_data = pd.read_csv('mol_test.csv', encoding='gbk')\n",
    "# 分词并编码\n",
    "tokenized_testdata = tokenizer(\n",
    "    test_data['SMILES'].tolist(),\n",
    "    padding=True,\n",
    "    truncation=True,\n",
    "    max_length=512,  # 或您选择的最大长度\n",
    "    return_tensors=\"pt\"\n",
    ")\n",
    "\n",
    "input_ids = tokenized_testdata['input_ids']\n",
    "attention_mask = tokenized_testdata['attention_mask']\n",
    "\n",
    "# 创建TensorDataset\n",
    "test_dataset = TensorDataset(input_ids, attention_mask)\n",
    "\n",
    "test_loader = DataLoader(test_dataset, batch_size=batch_size)\n",
    "\n",
    "# 模型推断\n",
    "model.eval()  # 确保模型在评估模式\n",
    "predictions = []\n",
    "\n",
    "with torch.no_grad():\n",
    "    for batch in test_loader:\n",
    "        batch_input_ids = batch[0].to(model.device)\n",
    "        batch_attention_mask = batch[1].to(model.device)\n",
    "\n",
    "        # 获取模型的预测结果\n",
    "        outputs = model(batch_input_ids, attention_mask=batch_attention_mask)\n",
    "        logits = outputs.logits\n",
    "        batch_predictions = torch.argmax(logits, dim=1)\n",
    "        predictions.extend(batch_predictions.cpu().numpy())\n",
    "\n",
    "# 将预测结果转换为 DataFrame\n",
    "test_data['TARGET'] = predictions\n",
    "\n",
    "# 保存预测结果到 CSV 文件，如果需要的话\n",
    "test_data.to_csv('submission.csv', index=False)"
   ]
  },
  {
   "cell_type": "code",
   "execution_count": null,
   "id": "c4ebb5d9",
   "metadata": {},
   "outputs": [],
   "source": []
  }
 ],
 "metadata": {
  "kernelspec": {
   "display_name": "Python 3 (ipykernel)",
   "language": "python",
   "name": "python3"
  },
  "language_info": {
   "codemirror_mode": {
    "name": "ipython",
    "version": 3
   },
   "file_extension": ".py",
   "mimetype": "text/x-python",
   "name": "python",
   "nbconvert_exporter": "python",
   "pygments_lexer": "ipython3",
   "version": "3.11.4"
  }
 },
 "nbformat": 4,
 "nbformat_minor": 5
}
