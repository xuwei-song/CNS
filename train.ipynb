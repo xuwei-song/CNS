{
 "cells": [
  {
   "cell_type": "code",
   "execution_count": 6,
   "id": "7fc6c369",
   "metadata": {},
   "outputs": [
    {
     "data": {
      "text/html": [
       "<div>\n",
       "<style scoped>\n",
       "    .dataframe tbody tr th:only-of-type {\n",
       "        vertical-align: middle;\n",
       "    }\n",
       "\n",
       "    .dataframe tbody tr th {\n",
       "        vertical-align: top;\n",
       "    }\n",
       "\n",
       "    .dataframe thead th {\n",
       "        text-align: right;\n",
       "    }\n",
       "</style>\n",
       "<table border=\"1\" class=\"dataframe\">\n",
       "  <thead>\n",
       "    <tr style=\"text-align: right;\">\n",
       "      <th></th>\n",
       "      <th>Smiles</th>\n",
       "      <th>Target</th>\n",
       "      <th>Description</th>\n",
       "    </tr>\n",
       "  </thead>\n",
       "  <tbody>\n",
       "    <tr>\n",
       "      <th>0</th>\n",
       "      <td>CC1OC(=O)CC(O)CC(O)CC(O)CCC(O)C(O)CC(=O)CC(O)C...</td>\n",
       "      <td>0</td>\n",
       "      <td>一种方法是通过观察分子结构，确定能够识别的结构片段。在这个分子中，可以找到以下结构片段：\\n...</td>\n",
       "    </tr>\n",
       "    <tr>\n",
       "      <th>1</th>\n",
       "      <td>NCCCCC(NC(CCc1ccccc1)C(=O)O)C(=O)N2CCCC2C(=O)O</td>\n",
       "      <td>0</td>\n",
       "      <td>该化合物包含以下结构片段：\\n\\n1. NCCCCC- ：含有一个肽键（-CO-NH-）并连...</td>\n",
       "    </tr>\n",
       "    <tr>\n",
       "      <th>2</th>\n",
       "      <td>c1ccc(cc1)C2=NCC(=O)Nc3c2cc(cc3)[N+](=O)[O]</td>\n",
       "      <td>1</td>\n",
       "      <td>'c1ccc(cc1)C2=NCC(=O)Nc3c2cc(cc3)[N+](=O)[O]'包...</td>\n",
       "    </tr>\n",
       "    <tr>\n",
       "      <th>3</th>\n",
       "      <td>CCN(CC)C(C)CN1c2ccccc2Sc3c1cccc3</td>\n",
       "      <td>1</td>\n",
       "      <td>'CCN(CC)C(C)CN1c2ccccc2Sc3c1cccc3'中包含以下结构片段：\\n...</td>\n",
       "    </tr>\n",
       "    <tr>\n",
       "      <th>4</th>\n",
       "      <td>CC(CCCC(C)(C)O)C1CCC2C(=CC=C3CC(O)CC(O)C3=C)CC...</td>\n",
       "      <td>0</td>\n",
       "      <td>'CC(CCCC(C)(C)O)C1CCC2C(=CC=C3CC(O)CC(O)C3=C)C...</td>\n",
       "    </tr>\n",
       "  </tbody>\n",
       "</table>\n",
       "</div>"
      ],
      "text/plain": [
       "                                              Smiles  Target  \\\n",
       "0  CC1OC(=O)CC(O)CC(O)CC(O)CCC(O)C(O)CC(=O)CC(O)C...       0   \n",
       "1     NCCCCC(NC(CCc1ccccc1)C(=O)O)C(=O)N2CCCC2C(=O)O       0   \n",
       "2        c1ccc(cc1)C2=NCC(=O)Nc3c2cc(cc3)[N+](=O)[O]       1   \n",
       "3                   CCN(CC)C(C)CN1c2ccccc2Sc3c1cccc3       1   \n",
       "4  CC(CCCC(C)(C)O)C1CCC2C(=CC=C3CC(O)CC(O)C3=C)CC...       0   \n",
       "\n",
       "                                         Description  \n",
       "0  一种方法是通过观察分子结构，确定能够识别的结构片段。在这个分子中，可以找到以下结构片段：\\n...  \n",
       "1  该化合物包含以下结构片段：\\n\\n1. NCCCCC- ：含有一个肽键（-CO-NH-）并连...  \n",
       "2  'c1ccc(cc1)C2=NCC(=O)Nc3c2cc(cc3)[N+](=O)[O]'包...  \n",
       "3  'CCN(CC)C(C)CN1c2ccccc2Sc3c1cccc3'中包含以下结构片段：\\n...  \n",
       "4  'CC(CCCC(C)(C)O)C1CCC2C(=CC=C3CC(O)CC(O)C3=C)C...  "
      ]
     },
     "execution_count": 6,
     "metadata": {},
     "output_type": "execute_result"
    }
   ],
   "source": [
    "import pandas as pd\n",
    "\n",
    "# Specify the path to your CSV file\n",
    "csv_path = r\"C:\\Users\\Administrator\\ownCloud - xuwei@cloud.cts.shanghaitech.edu.cn\\5. 应用\\CNS\\output_10.csv\"\n",
    "\n",
    "# Load the CSV file into a pandas DataFrame\n",
    "df = pd.read_csv(csv_path, encoding='gbk')\n",
    "df.head()"
   ]
  },
  {
   "cell_type": "code",
   "execution_count": 7,
   "id": "39f971da",
   "metadata": {},
   "outputs": [],
   "source": [
    "from datasets import Dataset\n",
    "\n",
    "# Convert the pandas DataFrame to a datasets.Dataset\n",
    "dataset = Dataset.from_pandas(df)"
   ]
  },
  {
   "cell_type": "code",
   "execution_count": 9,
   "id": "4d5e36d8",
   "metadata": {},
   "outputs": [
    {
     "data": {
      "application/vnd.jupyter.widget-view+json": {
       "model_id": "eb1f5076e0a54dd683f44330c7ab35a9",
       "version_major": 2,
       "version_minor": 0
      },
      "text/plain": [
       "Map:   0%|          | 0/699 [00:00<?, ? examples/s]"
      ]
     },
     "metadata": {},
     "output_type": "display_data"
    }
   ],
   "source": [
    "from transformers import AutoTokenizer\n",
    "\n",
    "tokenizer = AutoTokenizer.from_pretrained(\"bert-base-cased\")\n",
    "\n",
    "\n",
    "def tokenize_function(examples):\n",
    "    return tokenizer(examples[\"Description\"], padding=\"max_length\", truncation=True)\n",
    "\n",
    "\n",
    "tokenized_datasets = dataset.map(tokenize_function, batched=True)"
   ]
  },
  {
   "cell_type": "code",
   "execution_count": 28,
   "id": "c9a97aa3",
   "metadata": {},
   "outputs": [
    {
     "data": {
      "text/plain": [
       "Dataset({\n",
       "    features: ['Smiles', 'Target', 'Description', 'input_ids', 'token_type_ids', 'attention_mask'],\n",
       "    num_rows: 699\n",
       "})"
      ]
     },
     "execution_count": 28,
     "metadata": {},
     "output_type": "execute_result"
    }
   ],
   "source": [
    "tokenized_datasets"
   ]
  },
  {
   "cell_type": "code",
   "execution_count": 12,
   "id": "3aae2441",
   "metadata": {},
   "outputs": [],
   "source": [
    "from sklearn.model_selection import train_test_split\n",
    "\n",
    "# Assuming your tokenized dataset has a 'train' split\n",
    "train_data, dev_data = train_test_split(tokenized_datasets, test_size=0.2, random_state=42)"
   ]
  },
  {
   "cell_type": "code",
   "execution_count": 32,
   "id": "bcff3925",
   "metadata": {},
   "outputs": [
    {
     "data": {
      "text/plain": [
       "dict_keys(['Smiles', 'Target', 'Description', 'input_ids', 'token_type_ids', 'attention_mask'])"
      ]
     },
     "execution_count": 32,
     "metadata": {},
     "output_type": "execute_result"
    }
   ],
   "source": [
    "train_data.keys()"
   ]
  },
  {
   "cell_type": "code",
   "execution_count": 35,
   "id": "6b160b2c",
   "metadata": {},
   "outputs": [],
   "source": [
    "import torch\n",
    "from torch.utils.data import DataLoader, TensorDataset\n",
    "\n",
    "# Assuming train_data and test_data are dictionaries containing your data\n",
    "train_dataset = TensorDataset(\n",
    "    torch.tensor(train_data['input_ids']),\n",
    "    torch.tensor(train_data['token_type_ids']),\n",
    "    torch.tensor(train_data['attention_mask']),\n",
    "    torch.tensor(train_data['Target'])\n",
    ")\n",
    "\n",
    "train_loader = DataLoader(train_dataset, batch_size=32, shuffle=True)\n",
    "\n",
    "# Similarly, create a DataLoader for the validation set\n",
    "dev_dataset = TensorDataset(\n",
    "    torch.tensor(dev_data['input_ids']),\n",
    "    torch.tensor(dev_data['token_type_ids']),\n",
    "    torch.tensor(dev_data['attention_mask']),\n",
    "    torch.tensor(dev_data['Target'])\n",
    ")\n",
    "\n",
    "dev_loader = DataLoader(dev_dataset, batch_size=32, shuffle=True)"
   ]
  },
  {
   "cell_type": "code",
   "execution_count": 37,
   "id": "0b395486",
   "metadata": {},
   "outputs": [
    {
     "name": "stderr",
     "output_type": "stream",
     "text": [
      "Some weights of BertForSequenceClassification were not initialized from the model checkpoint at bert-base-uncased and are newly initialized: ['classifier.bias', 'classifier.weight']\n",
      "You should probably TRAIN this model on a down-stream task to be able to use it for predictions and inference.\n"
     ]
    }
   ],
   "source": [
    "# define model\n",
    "from transformers import AutoModelForSequenceClassification\n",
    "\n",
    "model = AutoModelForSequenceClassification.from_pretrained('bert-base-uncased')"
   ]
  },
  {
   "cell_type": "code",
   "execution_count": 38,
   "id": "51652dfa",
   "metadata": {},
   "outputs": [],
   "source": [
    "# define optim and loss function\n",
    "import torch.optim as optim\n",
    "import torch.nn as nn\n",
    "\n",
    "optimizer = optim.AdamW(model.parameters(), lr=2e-5)\n",
    "criterion = nn.CrossEntropyLoss()"
   ]
  },
  {
   "cell_type": "code",
   "execution_count": null,
   "id": "a593c914",
   "metadata": {},
   "outputs": [],
   "source": [
    "# training\n",
    "device = torch.device('cuda' if torch.cuda.is_available() else 'cpu')\n",
    "model.to(device)\n",
    "\n",
    "num_epochs = 3\n",
    "\n",
    "for epoch in range(num_epochs):\n",
    "    model.train()\n",
    "    for batch in train_loader:\n",
    "        input_ids, token_type_ids, attention_mask, target = batch\n",
    "        input_ids, token_type_ids, attention_mask, target = (\n",
    "            input_ids.to(device),\n",
    "            token_type_ids.to(device),\n",
    "            attention_mask.to(device),\n",
    "            target.to(device),\n",
    "        )\n",
    "\n",
    "        optimizer.zero_grad()\n",
    "        outputs = model(input_ids=input_ids, token_type_ids=token_type_ids, attention_mask=attention_mask)\n",
    "        loss = criterion(outputs.logits, target)\n",
    "        loss.backward()\n",
    "        optimizer.step()\n",
    "\n",
    "# Save or serialize your trained model if needed\n",
    "# ..."
   ]
  },
  {
   "cell_type": "code",
   "execution_count": 1,
   "id": "ed1248dd",
   "metadata": {},
   "outputs": [
    {
     "ename": "NameError",
     "evalue": "name 'model' is not defined",
     "output_type": "error",
     "traceback": [
      "\u001b[1;31m---------------------------------------------------------------------------\u001b[0m",
      "\u001b[1;31mNameError\u001b[0m                                 Traceback (most recent call last)",
      "Cell \u001b[1;32mIn[1], line 3\u001b[0m\n\u001b[0;32m      1\u001b[0m \u001b[38;5;66;03m# evaluation\u001b[39;00m\n\u001b[0;32m      2\u001b[0m \u001b[38;5;28;01mfrom\u001b[39;00m \u001b[38;5;21;01msklearn\u001b[39;00m\u001b[38;5;21;01m.\u001b[39;00m\u001b[38;5;21;01mmetrics\u001b[39;00m \u001b[38;5;28;01mimport\u001b[39;00m fbeta_score\n\u001b[1;32m----> 3\u001b[0m model\u001b[38;5;241m.\u001b[39meval()\n\u001b[0;32m      4\u001b[0m all_preds \u001b[38;5;241m=\u001b[39m []\n\u001b[0;32m      5\u001b[0m all_targets \u001b[38;5;241m=\u001b[39m []\n",
      "\u001b[1;31mNameError\u001b[0m: name 'model' is not defined"
     ]
    }
   ],
   "source": [
    "# evaluation\n",
    "from sklearn.metrics import fbeta_score\n",
    "model.eval()\n",
    "all_preds = []\n",
    "all_targets = []\n",
    "\n",
    "with torch.no_grad():\n",
    "    for batch in validation_loader:  # Use your validation DataLoader here\n",
    "        input_ids, token_type_ids, attention_mask, target = batch\n",
    "        input_ids, token_type_ids, attention_mask, target = (\n",
    "            input_ids.to(device),\n",
    "            token_type_ids.to(device),\n",
    "            attention_mask.to(device),\n",
    "            target.to(device),\n",
    "        )\n",
    "\n",
    "        outputs = model(input_ids=input_ids, token_type_ids=token_type_ids, attention_mask=attention_mask)\n",
    "        preds = torch.argmax(outputs.logits, dim=1).cpu().numpy()\n",
    "\n",
    "        all_preds.extend(preds)\n",
    "        all_targets.extend(target.cpu().numpy())\n",
    "\n",
    "# Compute F2-score\n",
    "f2 = fbeta_score(all_targets, all_preds, beta=2)\n",
    "print(f'F2-Score: {f2}')"
   ]
  },
  {
   "cell_type": "code",
   "execution_count": null,
   "id": "043ca562",
   "metadata": {},
   "outputs": [],
   "source": []
  }
 ],
 "metadata": {
  "kernelspec": {
   "display_name": "Python 3 (ipykernel)",
   "language": "python",
   "name": "python3"
  },
  "language_info": {
   "codemirror_mode": {
    "name": "ipython",
    "version": 3
   },
   "file_extension": ".py",
   "mimetype": "text/x-python",
   "name": "python",
   "nbconvert_exporter": "python",
   "pygments_lexer": "ipython3",
   "version": "3.11.4"
  }
 },
 "nbformat": 4,
 "nbformat_minor": 5
}
